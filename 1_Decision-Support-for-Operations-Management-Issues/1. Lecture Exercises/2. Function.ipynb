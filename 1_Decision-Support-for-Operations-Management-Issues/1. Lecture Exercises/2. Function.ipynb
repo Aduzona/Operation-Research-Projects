{
  "cells": [
    {
      "metadata": {
        "collapsed": true
      },
      "cell_type": "markdown",
      "source": "# 2.5 EXERCISE"
    },
    {
      "metadata": {},
      "cell_type": "markdown",
      "source": "# 1. Formulate the EOQ in R,   C= (1/2 * cl * q+ d/q * co)\n\nAxsäter inventory control, equation 4.1, page 46 by Chapter 4 Single Echelon Systems\nEOQ = Economic Order Quantity\nC = cost per time unit\nd = demand per time unit\nq= batch quantity\ncl = holding cost per unit and time\nco = ordering or setup cost\nd/q = average numeber of orders per time."
    },
    {
      "metadata": {
        "trusted": true
      },
      "cell_type": "code",
      "source": "EOQ <- function(cl, q, d, co){\n  \n  tmp <- ((1/2) * cl *q + (d/q) * co)\n  return(tmp)\n}\nQuantity = EOQ(2,4,2,4)\nQuantity",
      "execution_count": 2,
      "outputs": [
        {
          "output_type": "display_data",
          "data": {
            "text/plain": "[1] 6",
            "text/latex": "6",
            "text/markdown": "6",
            "text/html": "6"
          },
          "metadata": {}
        }
      ]
    },
    {
      "metadata": {},
      "cell_type": "markdown",
      "source": "# 2. Derive a function for calculating weighted Euclidean distance between two points\n\npoint A(x1, y1)  point B(x2,y2)\n\nd(A,B)= sqrt(sum(wi*(Ai-Bi)^2))\n\nhttps://www.sciencedirect.com/topics/computer-science/euclidean-distance \n"
    },
    {
      "metadata": {
        "trusted": true
      },
      "cell_type": "code",
      "source": "Weighted_Eucledian <- function(x1,y1,w1,x2,y2,w2){\n  \n  tmp <- sqrt(w1^2*(x1-x2)^2+w2^2*(y1-y2)^2)\n  return(tmp)\n}\nWEuclid=Weighted_Eucledian(2,3,1,4,5,2)\nWEuclid",
      "execution_count": 1,
      "outputs": [
        {
          "output_type": "display_data",
          "data": {
            "text/plain": "[1] 4.472136",
            "text/latex": "4.47213595499958",
            "text/markdown": "4.47213595499958",
            "text/html": "4.47213595499958"
          },
          "metadata": {}
        }
      ]
    },
    {
      "metadata": {},
      "cell_type": "markdown",
      "source": "# 3. Alter your EOQ function by checking whether all arguments are supplied and stop execution while displaying a error message.\n\nSimply include stop() inside your function/script:\nstop(\"This is an error message\")\na. (Add a Warning or Stop the Function Execution) https://www.youtube.com/watch?v=29TdKkUmcA4 \nb. (Passing Additional Arguments Using an Ellipsis)  https://www.youtube.com/watch?v=O3Bf2hM_gNc \nc. (Handling Missing Values using R) https://www.youtube.com/watch?v=An7nPLJ0fsg "
    },
    {
      "metadata": {
        "trusted": true,
        "scrolled": true
      },
      "cell_type": "code",
      "source": "#remove cl that is holding cost per unit argument from the argument to generate  error\nEOQ <- function(cl,q, d, co){\n  if(missing(cl) || missing(q) || missing(d) ||missing(co)){\n    stop(\"An argument is  missing\")  \n  }else {\n    \n  tmp <- ((1/2) * cl *q + (d/q) * co)\n  return(tmp)\n }\n}\nQuantity = EOQ(4,2)\nQuantity\n\n",
      "execution_count": 4,
      "outputs": [
        {
          "output_type": "error",
          "ename": "ERROR",
          "evalue": "Error in EOQ(4, 2): An argument is  missing\n",
          "traceback": [
            "Error in EOQ(4, 2): An argument is  missing\nTraceback:\n",
            "1. EOQ(4, 2)",
            "2. stop(\"An argument is  missing\")   # at line 4 of file <text>"
          ]
        }
      ]
    },
    {
      "metadata": {},
      "cell_type": "markdown",
      "source": "https://stackoverflow.com/questions/39403369/argument-checking-in-r \nAlso check ?stopifnot"
    },
    {
      "metadata": {
        "trusted": true
      },
      "cell_type": "code",
      "source": "EOQ <- function(cl,q, d, co){\n    stopifnot(!missing(cl), !missing(q), !missing(d), !missing(co))\n    tmp <- ((1/2) * cl *q + (d/q) * co)\n  return(tmp)\n}\nQuantity = EOQ(4,2)\nQuantity",
      "execution_count": 6,
      "outputs": [
        {
          "output_type": "error",
          "ename": "ERROR",
          "evalue": "Error in EOQ(4, 2): !missing(d) is not TRUE\n",
          "traceback": [
            "Error in EOQ(4, 2): !missing(d) is not TRUE\nTraceback:\n",
            "1. EOQ(4, 2)",
            "2. stopifnot(!missing(cl), !missing(q), !missing(d), !missing(co))   # at line 2 of file <text>"
          ]
        }
      ]
    },
    {
      "metadata": {},
      "cell_type": "markdown",
      "source": "# 4. Formulate a function for the Geometric Poisson density distribution\nProbability Density function is a function of a continous random variable whose integral across an interval gives the probability that the value of the variables lies within the same #interval.  source Google\nhttps://www.youtube.com/watch?v=D5oATpth0uQ&t=295s (probability density functions and cumulative distribution functions s1)\ne.g p(a <= x <= b)\n\nthe geometric Poisson distribution is used for describing objects that come in clusters, where the number of clusters follows a Poisson distribution and the number of objects within a cluster follows a geometric distribution.\n\np= Probability \nlambda= Mean of poisson distribution e.g Average number of clusters (my assumption)\nn= Number of trials or events e.g number of objects within a cluster  ( my assumption)\n"
    },
    {
      "metadata": {
        "trusted": true
      },
      "cell_type": "code",
      "source": "vec <-c(1,2,3,4)\nGeoPoi2 <- function(vec,lambda,p){\n    var <- 0\n    n<-length(vec)\n    for(k in vec){\n        var  <- var + (exp(-lambda)*((lambda^k)/factorial(k))*(1-p)^(n-k)*(p^k)*(factorial(n-1)/((factorial(k-1)*factorial(n-k)))))\n    }\n    return(var)\n}\n\nGeoPoi2(vec,2,0.5)",
      "execution_count": 12,
      "outputs": [
        {
          "output_type": "display_data",
          "data": {
            "text/plain": "[1] 0.1071404",
            "text/latex": "0.107140432562318",
            "text/markdown": "0.107140432562318",
            "text/html": "0.107140432562318"
          },
          "metadata": {}
        }
      ]
    },
    {
      "metadata": {
        "trusted": true
      },
      "cell_type": "code",
      "source": "GeoPoi <- function(n, lambda,p){\n  var <- 0\n  for(k in 1:n){\n    var  <- var + (exp(-lambda)*((lambda^k)/factorial(k))*(1-p)^(n-k)*(p^k)*(factorial(n-1)/((factorial(k-1)*factorial(n-k)))))\n    \n     }\n  return(var)\n}\n\nGeoPoi(4,2,0.5)\n",
      "execution_count": 7,
      "outputs": [
        {
          "output_type": "display_data",
          "data": {
            "text/plain": "[1] 0.1071404",
            "text/latex": "0.107140432562318",
            "text/markdown": "0.107140432562318",
            "text/html": "0.107140432562318"
          },
          "metadata": {}
        }
      ]
    }
  ],
  "metadata": {
    "kernelspec": {
      "name": "r",
      "display_name": "R",
      "language": "R"
    },
    "language_info": {
      "mimetype": "text/x-r-source",
      "name": "R",
      "pygments_lexer": "r",
      "version": "3.5.3",
      "file_extension": ".r",
      "codemirror_mode": "r"
    }
  },
  "nbformat": 4,
  "nbformat_minor": 2
}
